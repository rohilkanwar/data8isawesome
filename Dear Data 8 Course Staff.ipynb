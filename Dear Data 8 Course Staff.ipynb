{
 "cells": [
  {
   "cell_type": "code",
   "execution_count": 72,
   "metadata": {},
   "outputs": [],
   "source": [
    "import numpy as np\n",
    "from datascience import *\n",
    "\n",
    "# These lines set up graphing capabilities.\n",
    "import matplotlib\n",
    "%matplotlib inline\n",
    "import matplotlib.pyplot as plt\n",
    "plt.style.use('fivethirtyeight')\n",
    "import warnings\n",
    "warnings.simplefilter('ignore', FutureWarning)\n",
    "\n",
    "from ipywidgets import interact, interactive, fixed, interact_manual\n",
    "import ipywidgets as widgets"
   ]
  },
  {
   "cell_type": "markdown",
   "metadata": {},
   "source": [
    "# ROHIL 101\n",
    "\n",
    "Welcome to Lab `Rohil 101`. Hope you are doing well, and excited to teach budding data scientists all about the length and breadth of the concepts of Numpy arrays and the power of Confidence intervals among other topics. In this lab, Rohil Kanwar, an absolute Data 8 enthusiast just like you and two-time (Spring 2019 and Fall 2019) lab assistant attempts to explain how he can add value to this amazing course by assuming the role of a course tutor. "
   ]
  },
  {
   "cell_type": "markdown",
   "metadata": {},
   "source": [
    "### Q1. What makes me a good tutor?\n",
    "\n",
    "(The following points are based on feedback I have received from my students over the aforementioned two semesters)\n",
    "\n",
    "#### Tutor Quality 1 : I try to see the problem through the lens of the student, and then very gradually from there, attempt to make them understand wherein lies the problem.\n",
    "\n",
    "For instance, here is `Q4.2` from `lab02` in Fall 2019. "
   ]
  },
  {
   "cell_type": "code",
   "execution_count": 2,
   "metadata": {},
   "outputs": [
    {
     "data": {
      "text/html": [
       "<table border=\"1\" class=\"dataframe\">\n",
       "    <thead>\n",
       "        <tr>\n",
       "            <th>Votes</th> <th>Rating</th> <th>Title</th> <th>Year</th> <th>Decade</th>\n",
       "        </tr>\n",
       "    </thead>\n",
       "    <tbody>\n",
       "        <tr>\n",
       "            <td>88355 </td> <td>8.4   </td> <td>M                    </td> <td>1931</td> <td>1930  </td>\n",
       "        </tr>\n",
       "        <tr>\n",
       "            <td>132823</td> <td>8.3   </td> <td>Singin' in the Rain  </td> <td>1952</td> <td>1950  </td>\n",
       "        </tr>\n",
       "        <tr>\n",
       "            <td>74178 </td> <td>8.3   </td> <td>All About Eve        </td> <td>1950</td> <td>1950  </td>\n",
       "        </tr>\n",
       "        <tr>\n",
       "            <td>635139</td> <td>8.6   </td> <td>Léon                 </td> <td>1994</td> <td>1990  </td>\n",
       "        </tr>\n",
       "        <tr>\n",
       "            <td>145514</td> <td>8.2   </td> <td>The Elephant Man     </td> <td>1980</td> <td>1980  </td>\n",
       "        </tr>\n",
       "        <tr>\n",
       "            <td>425461</td> <td>8.3   </td> <td>Full Metal Jacket    </td> <td>1987</td> <td>1980  </td>\n",
       "        </tr>\n",
       "        <tr>\n",
       "            <td>441174</td> <td>8.1   </td> <td>Gone Girl            </td> <td>2014</td> <td>2010  </td>\n",
       "        </tr>\n",
       "        <tr>\n",
       "            <td>850601</td> <td>8.3   </td> <td>Batman Begins        </td> <td>2005</td> <td>2000  </td>\n",
       "        </tr>\n",
       "        <tr>\n",
       "            <td>37664 </td> <td>8.2   </td> <td>Judgment at Nuremberg</td> <td>1961</td> <td>1960  </td>\n",
       "        </tr>\n",
       "        <tr>\n",
       "            <td>46987 </td> <td>8     </td> <td>Relatos salvajes     </td> <td>2014</td> <td>2010  </td>\n",
       "        </tr>\n",
       "    </tbody>\n",
       "</table>\n",
       "<p>... (240 rows omitted)</p>"
      ],
      "text/plain": [
       "Votes  | Rating | Title                 | Year | Decade\n",
       "88355  | 8.4    | M                     | 1931 | 1930\n",
       "132823 | 8.3    | Singin' in the Rain   | 1952 | 1950\n",
       "74178  | 8.3    | All About Eve         | 1950 | 1950\n",
       "635139 | 8.6    | Léon                  | 1994 | 1990\n",
       "145514 | 8.2    | The Elephant Man      | 1980 | 1980\n",
       "425461 | 8.3    | Full Metal Jacket     | 1987 | 1980\n",
       "441174 | 8.1    | Gone Girl             | 2014 | 2010\n",
       "850601 | 8.3    | Batman Begins         | 2005 | 2000\n",
       "37664  | 8.2    | Judgment at Nuremberg | 1961 | 1960\n",
       "46987  | 8      | Relatos salvajes      | 2014 | 2010\n",
       "... (240 rows omitted)"
      ]
     },
     "execution_count": 2,
     "metadata": {},
     "output_type": "execute_result"
    }
   ],
   "source": [
    "# Just run this cell\n",
    "\n",
    "imdb = Table.read_table('imdb.csv')\n",
    "imdb"
   ]
  },
  {
   "cell_type": "markdown",
   "metadata": {},
   "source": [
    "**Question 4.2.** Create a table of movies released between 2010 and 2016 (inclusive) with ratings above 8. The table should only contain the columns `Title` and `Rating`, **in that order**.\n",
    "\n",
    "Assign the table to the name `above_eight`.\n",
    "\n",
    "*Hint:* Think about the steps you need to take, and try to put them in an order that make sense. Feel free to create intermediate tables for each step, but please make sure you assign your final table the name `above_eight`!\n",
    "\n",
    "<!--\n",
    "BEGIN QUESTION\n",
    "name: q42\n",
    "-->"
   ]
  },
  {
   "cell_type": "markdown",
   "metadata": {},
   "source": [
    "###### Illustrated below is a common student solution!"
   ]
  },
  {
   "cell_type": "code",
   "execution_count": 3,
   "metadata": {},
   "outputs": [
    {
     "ename": "TypeError",
     "evalue": "where() takes from 2 to 4 positional arguments but 5 were given",
     "output_type": "error",
     "traceback": [
      "\u001b[0;31m---------------------------------------------------------------------------\u001b[0m",
      "\u001b[0;31mTypeError\u001b[0m                                 Traceback (most recent call last)",
      "\u001b[0;32m<ipython-input-3-49be4d8884ac>\u001b[0m in \u001b[0;36m<module>\u001b[0;34m\u001b[0m\n\u001b[0;32m----> 1\u001b[0;31m \u001b[0mabove_eight\u001b[0m \u001b[0;34m=\u001b[0m \u001b[0mimdb\u001b[0m\u001b[0;34m.\u001b[0m\u001b[0mselect\u001b[0m\u001b[0;34m(\u001b[0m\u001b[0;36m1\u001b[0m\u001b[0;34m,\u001b[0m\u001b[0;36m2\u001b[0m\u001b[0;34m)\u001b[0m\u001b[0;34m.\u001b[0m\u001b[0mwhere\u001b[0m\u001b[0;34m(\u001b[0m\u001b[0;34m'Year'\u001b[0m\u001b[0;34m,\u001b[0m\u001b[0mare\u001b[0m\u001b[0;34m.\u001b[0m\u001b[0mbetween\u001b[0m\u001b[0;34m(\u001b[0m\u001b[0;36m2010\u001b[0m\u001b[0;34m,\u001b[0m \u001b[0;36m2016\u001b[0m\u001b[0;34m)\u001b[0m\u001b[0;34m,\u001b[0m\u001b[0;34m'Rating'\u001b[0m\u001b[0;34m,\u001b[0m \u001b[0mare\u001b[0m\u001b[0;34m.\u001b[0m\u001b[0mabove\u001b[0m\u001b[0;34m(\u001b[0m\u001b[0;36m8\u001b[0m\u001b[0;34m)\u001b[0m\u001b[0;34m)\u001b[0m\u001b[0;34m\u001b[0m\u001b[0;34m\u001b[0m\u001b[0m\n\u001b[0m\u001b[1;32m      2\u001b[0m \u001b[0mabove_eight\u001b[0m\u001b[0;34m\u001b[0m\u001b[0;34m\u001b[0m\u001b[0m\n",
      "\u001b[0;31mTypeError\u001b[0m: where() takes from 2 to 4 positional arguments but 5 were given"
     ]
    }
   ],
   "source": [
    "above_eight = imdb.select(1,2).where('Year',are.between(2010, 2016),'Rating', are.above(8))\n",
    "above_eight"
   ]
  },
  {
   "cell_type": "markdown",
   "metadata": {},
   "source": [
    "Now, even though the above code shows a fair understanding of what concepts to be used by the student, there needs to be some work done here to work them through the process of fixing this code. Thus, I use the following 3-step process to assist the student with this problem.\n",
    "\n",
    "**STEP 1** I ask the student to narrate to me what they understand that the question is asking them to do. This is to make sure that they're not solving a different problem than what is asked. A plausible answer could be to produce a two column table containing movies released between 2010 and 2016 and having a rating above 8, or simply an \"I don't know\" which is also a completely valid answer. \n",
    "\n",
    "Now, type(StudentAns) = str<br>\n",
    "So, \n",
    "\n",
    "    if (StudentAns = \"I don't know\"):\n",
    "         print(\"I read the question sentence by sentence and ask them to summarize in their own words what the question is              asking\")\n",
    "     elif (StudentAns != correct interpretation of the question):\n",
    "         print(\"I ask them to reread the part of the problem that they are probably misinterpreting\")\n",
    "     else:\n",
    "         print(\"Yes, you are absolutely right! Great job, because half the job is already done when we understand what to do. Now, all we have to do is implement it in code. However, we tried that and we encountered an error. So what do you think we should do at this point? Maybe it'd be a good idea to go through the code line-by-line to see where the error is, but luckily, the Jupyter notebook does that job for us. Do you want to take a quick look at the error?\")\n",
    "         \n",
    "So, as you may have noticed, I tried to put myself in the shoes of the student, who is probably a beginner programmer who wants to understand the syntax of the datascience module. Therefore, I tried to walk them through what, in my opinion, could be going on in their head, when they're faced with an error. \n",
    "         \n",
    "#### Tutor Quality 2 : I draw from my own experiences i.e. from when I was taking Data 8, to make the student feel more comfortable to make mistakes in front of me and ask me the smallest and the most basic questions.\n",
    "         \n",
    "**STEP 2** Now, once the student has identified the problem, it is common to feel vulnerable for the student and feel slightly bad about not having figured out the problem in the first place. If this is the case,  I believe it is really important for them to be able to trust that I will not draw a conclusion about their intelligence level based on what mistake they made. Thus, at this point, I would usually share a small story about how I encountered a similar problem back when I was taking a class. For instance, \n",
    "\n",
    "    \"By the way, when I was learning table methods like select, where, with_columns etc. I used to always wonder why couldn't you put multiple filtering conditions in the where method, when you could create multiple columns in a table with the 'with_columns' method. But, it turns out, we need an independent 'where' for each filtering condition. Just a syntax thing, you'll be familiar with it really soon. Perhaps you could check out the documentation on the Data 8 Resources webpage, whenever you're a unsure of a syntactical thing.\"\n",
    "    \n",
    "    \"Heyy also, I'm really glad you asked me to help you with this, because you just helped me stay familiar with table operations, even when I'm not taking the class. Always feel free to ask me whatever questions that may pop up in your mind. And if they're about my opinions on Trump's impeachment, maybe we could talk about that while grabbing coffee outside because we might need a little more time for that than what this lab offers :p But, honestly, no question is a dumb question, and I would love it if you could help me remember the smallest things related to Data 8 material by asking me questions! :)\""
   ]
  },
  {
   "cell_type": "markdown",
   "metadata": {},
   "source": [
    "****Once we fix the where problem, the code should look something like this :****"
   ]
  },
  {
   "cell_type": "code",
   "execution_count": 4,
   "metadata": {
    "scrolled": false
   },
   "outputs": [
    {
     "ename": "ValueError",
     "evalue": "label \"Year\" not in labels ('Title', 'Rating')",
     "output_type": "error",
     "traceback": [
      "\u001b[0;31m---------------------------------------------------------------------------\u001b[0m",
      "\u001b[0;31mValueError\u001b[0m                                Traceback (most recent call last)",
      "\u001b[0;32m<ipython-input-4-8db9a1989e08>\u001b[0m in \u001b[0;36m<module>\u001b[0;34m\u001b[0m\n\u001b[0;32m----> 1\u001b[0;31m \u001b[0mabove_eight\u001b[0m \u001b[0;34m=\u001b[0m \u001b[0mimdb\u001b[0m\u001b[0;34m.\u001b[0m\u001b[0mselect\u001b[0m\u001b[0;34m(\u001b[0m\u001b[0;36m2\u001b[0m\u001b[0;34m,\u001b[0m\u001b[0;36m1\u001b[0m\u001b[0;34m)\u001b[0m\u001b[0;34m.\u001b[0m\u001b[0mwhere\u001b[0m\u001b[0;34m(\u001b[0m\u001b[0;34m'Year'\u001b[0m\u001b[0;34m,\u001b[0m\u001b[0mare\u001b[0m\u001b[0;34m.\u001b[0m\u001b[0mbetween\u001b[0m\u001b[0;34m(\u001b[0m\u001b[0;36m2010\u001b[0m\u001b[0;34m,\u001b[0m \u001b[0;36m2017\u001b[0m\u001b[0;34m)\u001b[0m\u001b[0;34m)\u001b[0m\u001b[0;34m.\u001b[0m\u001b[0mwhere\u001b[0m\u001b[0;34m(\u001b[0m\u001b[0;34m'Rating'\u001b[0m\u001b[0;34m,\u001b[0m \u001b[0mare\u001b[0m\u001b[0;34m.\u001b[0m\u001b[0mabove\u001b[0m\u001b[0;34m(\u001b[0m\u001b[0;36m8\u001b[0m\u001b[0;34m)\u001b[0m\u001b[0;34m)\u001b[0m\u001b[0;34m\u001b[0m\u001b[0;34m\u001b[0m\u001b[0m\n\u001b[0m\u001b[1;32m      2\u001b[0m \u001b[0mabove_eight\u001b[0m\u001b[0;34m\u001b[0m\u001b[0;34m\u001b[0m\u001b[0m\n",
      "\u001b[0;32m/srv/app/venv/lib/python3.6/site-packages/datascience/tables.py\u001b[0m in \u001b[0;36mwhere\u001b[0;34m(self, column_or_label, value_or_predicate, other)\u001b[0m\n\u001b[1;32m    798\u001b[0m         \u001b[0mColor\u001b[0m \u001b[0;34m|\u001b[0m \u001b[0mShape\u001b[0m \u001b[0;34m|\u001b[0m \u001b[0mAmount\u001b[0m \u001b[0;34m|\u001b[0m \u001b[0mPrice\u001b[0m\u001b[0;34m\u001b[0m\u001b[0;34m\u001b[0m\u001b[0m\n\u001b[1;32m    799\u001b[0m         \"\"\"\n\u001b[0;32m--> 800\u001b[0;31m         \u001b[0mcolumn\u001b[0m \u001b[0;34m=\u001b[0m \u001b[0mself\u001b[0m\u001b[0;34m.\u001b[0m\u001b[0m_get_column\u001b[0m\u001b[0;34m(\u001b[0m\u001b[0mcolumn_or_label\u001b[0m\u001b[0;34m)\u001b[0m\u001b[0;34m\u001b[0m\u001b[0;34m\u001b[0m\u001b[0m\n\u001b[0m\u001b[1;32m    801\u001b[0m         \u001b[0;32mif\u001b[0m \u001b[0mother\u001b[0m \u001b[0;32mis\u001b[0m \u001b[0;32mnot\u001b[0m \u001b[0;32mNone\u001b[0m\u001b[0;34m:\u001b[0m\u001b[0;34m\u001b[0m\u001b[0;34m\u001b[0m\u001b[0m\n\u001b[1;32m    802\u001b[0m             \u001b[0;32massert\u001b[0m \u001b[0mcallable\u001b[0m\u001b[0;34m(\u001b[0m\u001b[0mvalue_or_predicate\u001b[0m\u001b[0;34m)\u001b[0m\u001b[0;34m,\u001b[0m \u001b[0;34m\"Predicate required for 3-arg where\"\u001b[0m\u001b[0;34m\u001b[0m\u001b[0;34m\u001b[0m\u001b[0m\n",
      "\u001b[0;32m/srv/app/venv/lib/python3.6/site-packages/datascience/tables.py\u001b[0m in \u001b[0;36m_get_column\u001b[0;34m(self, column_or_label)\u001b[0m\n\u001b[1;32m   1389\u001b[0m             \u001b[0;32mreturn\u001b[0m \u001b[0mself\u001b[0m\u001b[0;34m[\u001b[0m\u001b[0mc\u001b[0m\u001b[0;34m]\u001b[0m\u001b[0;34m\u001b[0m\u001b[0;34m\u001b[0m\u001b[0m\n\u001b[1;32m   1390\u001b[0m         \u001b[0;32melif\u001b[0m \u001b[0misinstance\u001b[0m\u001b[0;34m(\u001b[0m\u001b[0mc\u001b[0m\u001b[0;34m,\u001b[0m \u001b[0mstr\u001b[0m\u001b[0;34m)\u001b[0m\u001b[0;34m:\u001b[0m\u001b[0;34m\u001b[0m\u001b[0;34m\u001b[0m\u001b[0m\n\u001b[0;32m-> 1391\u001b[0;31m             \u001b[0;32mraise\u001b[0m \u001b[0mValueError\u001b[0m\u001b[0;34m(\u001b[0m\u001b[0;34m'label \"{}\" not in labels {}'\u001b[0m\u001b[0;34m.\u001b[0m\u001b[0mformat\u001b[0m\u001b[0;34m(\u001b[0m\u001b[0mc\u001b[0m\u001b[0;34m,\u001b[0m \u001b[0mself\u001b[0m\u001b[0;34m.\u001b[0m\u001b[0mlabels\u001b[0m\u001b[0;34m)\u001b[0m\u001b[0;34m)\u001b[0m\u001b[0;34m\u001b[0m\u001b[0;34m\u001b[0m\u001b[0m\n\u001b[0m\u001b[1;32m   1392\u001b[0m         \u001b[0;32melse\u001b[0m\u001b[0;34m:\u001b[0m\u001b[0;34m\u001b[0m\u001b[0;34m\u001b[0m\u001b[0m\n\u001b[1;32m   1393\u001b[0m             \u001b[0;32massert\u001b[0m \u001b[0mlen\u001b[0m\u001b[0;34m(\u001b[0m\u001b[0mc\u001b[0m\u001b[0;34m)\u001b[0m \u001b[0;34m==\u001b[0m \u001b[0mself\u001b[0m\u001b[0;34m.\u001b[0m\u001b[0mnum_rows\u001b[0m\u001b[0;34m,\u001b[0m \u001b[0;34m'column length mismatch'\u001b[0m\u001b[0;34m\u001b[0m\u001b[0;34m\u001b[0m\u001b[0m\n",
      "\u001b[0;31mValueError\u001b[0m: label \"Year\" not in labels ('Title', 'Rating')"
     ]
    }
   ],
   "source": [
    "above_eight = imdb.select(2,1).where('Year',are.between(2010, 2017)).where('Rating', are.above(8))\n",
    "above_eight"
   ]
  },
  {
   "cell_type": "markdown",
   "metadata": {},
   "source": [
    "#### Tutor Quality 3 : I try to teach them long-term practices and methods. \n",
    "\n",
    "**STEP 3** When we encounter the aforementioned ValueError, the student might have been able to spot the error this time and identify the problem. However, since this error is not conceptual and Jupyter notebook doesn't quite tell us what part of this line of code caused the error, I try to advise them to break down the line of code to the simplest elements (using the period (.) as the separator in case of table operations) and then check for the error. \n",
    "\n",
    "    \"Wow, you're a quick learner. So yes, this time it's a ValueError that says the label 'Year' is not in the table. But how could this be, you wanna try to see what Python must be encountering for it to say that it can't find the column 'Year' in the table? So, whenever I encountered errors like this, I always used to break down my code into simpler elements to find the location of the error. So, I would first check if there is an error with 'imdb', then with the 'select' method, then with the 'where method' since that's how Python executes the code. The way to check for errors is simply to print the simpler code at each step. As you might remember, Jupyter notebook automatically prints the last line of code in a cell, so you could use that. This is a pretty useful technique for debugging. Go ahead, and give it a try!\"\n",
    "\n",
    "***The student will then likely perform the following operations.***"
   ]
  },
  {
   "cell_type": "code",
   "execution_count": 5,
   "metadata": {},
   "outputs": [
    {
     "data": {
      "text/html": [
       "<table border=\"1\" class=\"dataframe\">\n",
       "    <thead>\n",
       "        <tr>\n",
       "            <th>Votes</th> <th>Rating</th> <th>Title</th> <th>Year</th> <th>Decade</th>\n",
       "        </tr>\n",
       "    </thead>\n",
       "    <tbody>\n",
       "        <tr>\n",
       "            <td>88355 </td> <td>8.4   </td> <td>M                    </td> <td>1931</td> <td>1930  </td>\n",
       "        </tr>\n",
       "        <tr>\n",
       "            <td>132823</td> <td>8.3   </td> <td>Singin' in the Rain  </td> <td>1952</td> <td>1950  </td>\n",
       "        </tr>\n",
       "        <tr>\n",
       "            <td>74178 </td> <td>8.3   </td> <td>All About Eve        </td> <td>1950</td> <td>1950  </td>\n",
       "        </tr>\n",
       "        <tr>\n",
       "            <td>635139</td> <td>8.6   </td> <td>Léon                 </td> <td>1994</td> <td>1990  </td>\n",
       "        </tr>\n",
       "        <tr>\n",
       "            <td>145514</td> <td>8.2   </td> <td>The Elephant Man     </td> <td>1980</td> <td>1980  </td>\n",
       "        </tr>\n",
       "        <tr>\n",
       "            <td>425461</td> <td>8.3   </td> <td>Full Metal Jacket    </td> <td>1987</td> <td>1980  </td>\n",
       "        </tr>\n",
       "        <tr>\n",
       "            <td>441174</td> <td>8.1   </td> <td>Gone Girl            </td> <td>2014</td> <td>2010  </td>\n",
       "        </tr>\n",
       "        <tr>\n",
       "            <td>850601</td> <td>8.3   </td> <td>Batman Begins        </td> <td>2005</td> <td>2000  </td>\n",
       "        </tr>\n",
       "        <tr>\n",
       "            <td>37664 </td> <td>8.2   </td> <td>Judgment at Nuremberg</td> <td>1961</td> <td>1960  </td>\n",
       "        </tr>\n",
       "        <tr>\n",
       "            <td>46987 </td> <td>8     </td> <td>Relatos salvajes     </td> <td>2014</td> <td>2010  </td>\n",
       "        </tr>\n",
       "    </tbody>\n",
       "</table>\n",
       "<p>... (240 rows omitted)</p>"
      ],
      "text/plain": [
       "Votes  | Rating | Title                 | Year | Decade\n",
       "88355  | 8.4    | M                     | 1931 | 1930\n",
       "132823 | 8.3    | Singin' in the Rain   | 1952 | 1950\n",
       "74178  | 8.3    | All About Eve         | 1950 | 1950\n",
       "635139 | 8.6    | Léon                  | 1994 | 1990\n",
       "145514 | 8.2    | The Elephant Man      | 1980 | 1980\n",
       "425461 | 8.3    | Full Metal Jacket     | 1987 | 1980\n",
       "441174 | 8.1    | Gone Girl             | 2014 | 2010\n",
       "850601 | 8.3    | Batman Begins         | 2005 | 2000\n",
       "37664  | 8.2    | Judgment at Nuremberg | 1961 | 1960\n",
       "46987  | 8      | Relatos salvajes      | 2014 | 2010\n",
       "... (240 rows omitted)"
      ]
     },
     "execution_count": 5,
     "metadata": {},
     "output_type": "execute_result"
    }
   ],
   "source": [
    "imdb"
   ]
  },
  {
   "cell_type": "code",
   "execution_count": 6,
   "metadata": {},
   "outputs": [
    {
     "data": {
      "text/html": [
       "<table border=\"1\" class=\"dataframe\">\n",
       "    <thead>\n",
       "        <tr>\n",
       "            <th>Rating</th> <th>Title</th>\n",
       "        </tr>\n",
       "    </thead>\n",
       "    <tbody>\n",
       "        <tr>\n",
       "            <td>8.4   </td> <td>M                    </td>\n",
       "        </tr>\n",
       "        <tr>\n",
       "            <td>8.3   </td> <td>Singin' in the Rain  </td>\n",
       "        </tr>\n",
       "        <tr>\n",
       "            <td>8.3   </td> <td>All About Eve        </td>\n",
       "        </tr>\n",
       "        <tr>\n",
       "            <td>8.6   </td> <td>Léon                 </td>\n",
       "        </tr>\n",
       "        <tr>\n",
       "            <td>8.2   </td> <td>The Elephant Man     </td>\n",
       "        </tr>\n",
       "        <tr>\n",
       "            <td>8.3   </td> <td>Full Metal Jacket    </td>\n",
       "        </tr>\n",
       "        <tr>\n",
       "            <td>8.1   </td> <td>Gone Girl            </td>\n",
       "        </tr>\n",
       "        <tr>\n",
       "            <td>8.3   </td> <td>Batman Begins        </td>\n",
       "        </tr>\n",
       "        <tr>\n",
       "            <td>8.2   </td> <td>Judgment at Nuremberg</td>\n",
       "        </tr>\n",
       "        <tr>\n",
       "            <td>8     </td> <td>Relatos salvajes     </td>\n",
       "        </tr>\n",
       "    </tbody>\n",
       "</table>\n",
       "<p>... (240 rows omitted)</p>"
      ],
      "text/plain": [
       "Rating | Title\n",
       "8.4    | M\n",
       "8.3    | Singin' in the Rain\n",
       "8.3    | All About Eve\n",
       "8.6    | Léon\n",
       "8.2    | The Elephant Man\n",
       "8.3    | Full Metal Jacket\n",
       "8.1    | Gone Girl\n",
       "8.3    | Batman Begins\n",
       "8.2    | Judgment at Nuremberg\n",
       "8      | Relatos salvajes\n",
       "... (240 rows omitted)"
      ]
     },
     "execution_count": 6,
     "metadata": {},
     "output_type": "execute_result"
    }
   ],
   "source": [
    "imdb.select(1,2)"
   ]
  },
  {
   "cell_type": "markdown",
   "metadata": {},
   "source": [
    "The student likely notices the problem here, and realizes that all that was wrong was the order of their table methods. Then, they fix it and the code looks something like this!"
   ]
  },
  {
   "cell_type": "code",
   "execution_count": 7,
   "metadata": {
    "scrolled": false
   },
   "outputs": [
    {
     "data": {
      "text/html": [
       "<table border=\"1\" class=\"dataframe\">\n",
       "    <thead>\n",
       "        <tr>\n",
       "            <th>Title</th> <th>Rating</th>\n",
       "        </tr>\n",
       "    </thead>\n",
       "    <tbody>\n",
       "        <tr>\n",
       "            <td>Gone Girl               </td> <td>8.1   </td>\n",
       "        </tr>\n",
       "        <tr>\n",
       "            <td>Warrior                 </td> <td>8.2   </td>\n",
       "        </tr>\n",
       "        <tr>\n",
       "            <td>Intouchables            </td> <td>8.5   </td>\n",
       "        </tr>\n",
       "        <tr>\n",
       "            <td>Shutter Island          </td> <td>8.1   </td>\n",
       "        </tr>\n",
       "        <tr>\n",
       "            <td>12 Years a Slave        </td> <td>8.1   </td>\n",
       "        </tr>\n",
       "        <tr>\n",
       "            <td>Inside Out (2015/I)     </td> <td>8.5   </td>\n",
       "        </tr>\n",
       "        <tr>\n",
       "            <td>Jagten                  </td> <td>8.2   </td>\n",
       "        </tr>\n",
       "        <tr>\n",
       "            <td>Toy Story 3             </td> <td>8.3   </td>\n",
       "        </tr>\n",
       "        <tr>\n",
       "            <td>How to Train Your Dragon</td> <td>8.1   </td>\n",
       "        </tr>\n",
       "        <tr>\n",
       "            <td>Interstellar            </td> <td>8.6   </td>\n",
       "        </tr>\n",
       "    </tbody>\n",
       "</table>\n",
       "<p>... (10 rows omitted)</p>"
      ],
      "text/plain": [
       "Title                    | Rating\n",
       "Gone Girl                | 8.1\n",
       "Warrior                  | 8.2\n",
       "Intouchables             | 8.5\n",
       "Shutter Island           | 8.1\n",
       "12 Years a Slave         | 8.1\n",
       "Inside Out (2015/I)      | 8.5\n",
       "Jagten                   | 8.2\n",
       "Toy Story 3              | 8.3\n",
       "How to Train Your Dragon | 8.1\n",
       "Interstellar             | 8.6\n",
       "... (10 rows omitted)"
      ]
     },
     "execution_count": 7,
     "metadata": {},
     "output_type": "execute_result"
    }
   ],
   "source": [
    "above_eight = imdb.where('Year',are.between(2010, 2017)).where('Rating', are.above(8)).select(2,1)\n",
    "above_eight"
   ]
  },
  {
   "cell_type": "markdown",
   "metadata": {},
   "source": [
    "**STEP 4** Lastly, I always ask them to quickly summarize in about 30 seconds or so, what they learned today that they could use in the future to combat similar problems. And after they do that, I would say something like -\n",
    "\n",
    "    \"That is correct! You really knocked this one out of the park. You should really consider applying to be an AI or Tutor for this course next semester\"\n",
    "    \n",
    "    Student : \"Ohh I will for sure! Thank you for your help. You should be a tutor for this course!\" :p"
   ]
  },
  {
   "cell_type": "markdown",
   "metadata": {},
   "source": [
    "### Q2. Why do I want to be a tutor for this course? What are my relevant skills and coursework?"
   ]
  },
  {
   "cell_type": "markdown",
   "metadata": {},
   "source": [
    "Data Science is a wonderful young discipline, and I am so excited about the possibilities that lie at the forefront of ML and AI Research. Thus, I always want to stay rooted to my basics, and as I demonstrated above, there is no better way to do this than to teach this material and help all amazing students of Data 8 become amazing data scientists and pursue data-driven careers in the future. "
   ]
  },
  {
   "cell_type": "code",
   "execution_count": 33,
   "metadata": {},
   "outputs": [],
   "source": [
    "relevant_skills = ['Python_', 'Numpy_', 'NLP_', 'Understanding of research methods_', 'Confidence in teaching Data 8 material_']\n",
    "skill_level = [70, 75, 25, 40, 95]\n",
    "#Skill levels are percentages out of 100 and are based on what I believe represent my knowledge in those fields.\n",
    "\n",
    "new = []\n",
    "\n",
    "for i in range(len(relevant_skills)):\n",
    "    new.append(relevant_skills[i]*skill_level[i])\n",
    "    \n",
    "new2=[]\n",
    "for each in new:\n",
    "    new2 += each.split('_')"
   ]
  },
  {
   "cell_type": "code",
   "execution_count": 76,
   "metadata": {},
   "outputs": [
    {
     "data": {
      "image/png": "[encoded data removed]",
      "text/plain": [
       "<Figure size 432x288 with 1 Axes>"
      ]
     },
     "metadata": {},
     "output_type": "display_data"
    }
   ],
   "source": [
    "skills = Table().with_columns('Relevant Skills',new2)\n",
    "a = skills.group(0).relabel(1,'Skill Level').barh(0)"
   ]
  },
  {
   "cell_type": "markdown",
   "metadata": {},
   "source": [
    "### Q3 Who am I as a person? What interesting personality traits do I bring to the table?"
   ]
  },
  {
   "cell_type": "markdown",
   "metadata": {},
   "source": [
    "Hi! So we finally meet :) \n",
    "\n",
    "I am a third year student at University of California, Berkeley who is detail oriented, multi-tasking, a natural born leader and perfect for your cour….Well, I’m not! Had this been an introduction addressed to any other professional organization, I would’ve begun with this. But I already see a familial community in this wonderful Data 8 course staff! I have met some amazing people on the Data 8 Staff over the last two semesters and I am fortunate to call them my friends! And I want to be vulnerable in front of this Data 8 family, which I can only do by highlighting a few of my weaknesses (which, very honestly, 4 semesters of Berkeley has helped me make great progress towards overcoming them now), not strengths. So, let’s start again!\n",
    "\n",
    "Hi, I’m Rohil. I tended to procrastinate on work until the last minute. I did not do any work until pushed by peers and pressurized by the deadlines to do so. And not because I didn’t want to do the work, solely because I didn’t like to execute my thoughts as I was worried I wouldn't meet the high standard of work I set for myself. However, on the other side, it meant that I had a lot of time to closely think and scrutinize various aspects of my task. Thus, I believe that I minimized the chance to let any errors pass through in my work. Also, I don’t easily adjust to new environments, which means that I tend to miss my previous one a bit too much. However, this is what lets me stay close and connected to most of my friends in various environments. In other words, I believe this weakness of mine lets me foster long term relationships. Next, my memory doesn’t function in harmony with the long term theory. Simply put, I wouldn’t say that I’m particularly very good at remembering stuff. I often tend to forget the things told to me within short spans of time. However, this is what provides me the motivation to restate and summarize stuff in my own words, a quality that most of the successful tutors stuff.\n",
    "\n",
    "Lastly, I bring the ability to make jokes on a keyword given on-the-spot. For instance, what do modern trains use to organize themselves? Neural (pronounced New-Rail) Networks!\n",
    "\n",
    "I will not dissapoint you, if given a chance to be a Data 8 tutor this semester! Hope you have an amazing week ahead :)"
   ]
  },
  {
   "cell_type": "markdown",
   "metadata": {},
   "source": [
    "**Thank you so much for taking out the time to read this. I genuinely appreciate it! Below is a cute GIF of my favorite dog on the internet as a token of my appreciation :)**"
   ]
  },
  {
   "cell_type": "code",
   "execution_count": 89,
   "metadata": {},
   "outputs": [
    {
     "data": {
      "text/html": [
       "<a href=\"https://www.google.com/search?rlz=1C1CHBF_enUS846US846&biw=1536&bih=754&tbm=isch&sxsrf=ACYBGNRo81yU9jAmq7aPJro2bgK66euImg%3A1580374033879&sa=1&ei=EZgyXvqhNZX0-gSig6GAAQ&q=norbert+hifive+gif&oq=norbert+hifive+gif&gs_l=img.3...14546.20242..20980...2.0..0.177.1533.19j1......0....1..gws-wiz-img.....4..35i39j0i8i30j0i24j35i362i39j0i131j0j0i67j0i5i30j0i30.fFMhvuku7Xs&ved=0ahUKEwi67pqH-KrnAhUVup4KHaJBCBAQ4dUDCAc&uact=5#imgrc=QGk2RIpI6J8V-M:\">Norbert GIF</a>\n"
      ],
      "text/plain": [
       "<IPython.core.display.HTML object>"
      ]
     },
     "metadata": {},
     "output_type": "display_data"
    }
   ],
   "source": [
    "%%html\n",
    "<a href=\"https://www.google.com/search?rlz=1C1CHBF_enUS846US846&biw=1536&bih=754&tbm=isch&sxsrf=ACYBGNRo81yU9jAmq7aPJro2bgK66euImg%3A1580374033879&sa=1&ei=EZgyXvqhNZX0-gSig6GAAQ&q=norbert+hifive+gif&oq=norbert+hifive+gif&gs_l=img.3...14546.20242..20980...2.0..0.177.1533.19j1......0....1..gws-wiz-img.....4..35i39j0i8i30j0i24j35i362i39j0i131j0j0i67j0i5i30j0i30.fFMhvuku7Xs&ved=0ahUKEwi67pqH-KrnAhUVup4KHaJBCBAQ4dUDCAc&uact=5#imgrc=QGk2RIpI6J8V-M:\">Norbert GIF</a>"
   ]
  },
  {
   "cell_type": "code",
   "execution_count": null,
   "metadata": {},
   "outputs": [],
   "source": []
  }
 ],
 "metadata": {
  "kernelspec": {
   "display_name": "Python 3",
   "language": "python",
   "name": "python3"
  },
  "language_info": {
   "codemirror_mode": {
    "name": "ipython",
    "version": 3
   },
   "file_extension": ".py",
   "mimetype": "text/x-python",
   "name": "python",
   "nbconvert_exporter": "python",
   "pygments_lexer": "ipython3",
   "version": "3.6.9"
  }
 },
 "nbformat": 4,
 "nbformat_minor": 4
}
